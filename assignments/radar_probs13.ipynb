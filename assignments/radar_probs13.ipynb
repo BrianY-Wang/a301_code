{
 "cells": [
  {
   "cell_type": "markdown",
   "metadata": {
    "toc": true
   },
   "source": [
    "<h1>Table of Contents<span class=\"tocSkip\"></span></h1>\n",
    "<div class=\"toc\"><ul class=\"toc-item\"></ul></div>"
   ]
  },
  {
   "cell_type": "markdown",
   "metadata": {
    "deletable": false,
    "editable": false,
    "nbgrader": {
     "cell_type": "markdown",
     "checksum": "634d58a0c1738faf8d113a46f44da177",
     "grade": false,
     "grade_id": "cell-b2a76f5ac9595c65",
     "locked": true,
     "schema_version": 2,
     "solution": false
    }
   },
   "source": [
    "1. (hand in camera upload or on paper):  Integrate $Z=\\int D^6 n(D) dD$  assuming a Marshall Palmer size distribution and show that it integrates to:\n",
    "\n",
    "      $$Z \\approx 300 RR^{1.5}$$\n",
    "\n",
    "   with Z in $mm^6\\,m^{-3}R and RR in mm/hr.  It's helpful to know that:\n",
    "\n",
    "      $$\\int^\\infty_0 x^n \\exp( -a x) dx = n! / a^{n+1}$$"
   ]
  },
  {
   "cell_type": "code",
   "execution_count": null,
   "metadata": {
    "deletable": false,
    "nbgrader": {
     "cell_type": "code",
     "checksum": "51ecf1a6593e2b62f9f164b5d839584d",
     "grade": false,
     "grade_id": "cell-581c3f7af4b08a31",
     "locked": false,
     "schema_version": 2,
     "solution": true
    }
   },
   "outputs": [],
   "source": [
    "def findPr(Z,K2,La,R,R1=None,Pt=None,b=None,Z1=None):\n",
    "   \"\"\"\n",
    "    solve stull eqn 8.23\n",
    "    \n",
    "    Parameters\n",
    "    ----------\n",
    "    \n",
    "    input: Z (mm^6/m^3), K2 (unitless), La (unitless),R (km)\n",
    "           plus radar coefficients appropriate to given radar (like Nexrad)\n",
    "           \n",
    "    Returns\n",
    "    -------\n",
    "    \n",
    "    Pr in W \n",
    "   \"\"\" \n",
    "   # YOUR CODE HERE\n",
    "   raise NotImplementedError()\n"
   ]
  },
  {
   "cell_type": "code",
   "execution_count": null,
   "metadata": {
    "deletable": false,
    "nbgrader": {
     "cell_type": "code",
     "checksum": "1aafeba5285268a741edf95cd324fc27",
     "grade": false,
     "grade_id": "cell-691474a7fdcb1d2c",
     "locked": false,
     "schema_version": 2,
     "solution": true
    }
   },
   "outputs": [],
   "source": [
    "# YOUR CODE HERE\n",
    "raise NotImplementedError()"
   ]
  },
  {
   "cell_type": "code",
   "execution_count": null,
   "metadata": {},
   "outputs": [],
   "source": []
  }
 ],
 "metadata": {
  "kernelspec": {
   "display_name": "Python 3",
   "language": "python",
   "name": "python3"
  },
  "language_info": {
   "codemirror_mode": {
    "name": "ipython",
    "version": 3
   },
   "file_extension": ".py",
   "mimetype": "text/x-python",
   "name": "python",
   "nbconvert_exporter": "python",
   "pygments_lexer": "ipython3",
   "version": "3.6.6"
  },
  "toc": {
   "base_numbering": 1,
   "nav_menu": {},
   "number_sections": true,
   "sideBar": false,
   "skip_h1_title": false,
   "title_cell": "Table of Contents",
   "title_sidebar": "Contents",
   "toc_cell": true,
   "toc_position": {},
   "toc_section_display": true,
   "toc_window_display": false
  }
 },
 "nbformat": 4,
 "nbformat_minor": 2
}
