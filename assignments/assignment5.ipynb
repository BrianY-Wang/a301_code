{
 "cells": [
  {
   "cell_type": "markdown",
   "metadata": {
    "toc": true
   },
   "source": [
    "<h1>Table of Contents<span class=\"tocSkip\"></span></h1>\n",
    "<div class=\"toc\"><ul class=\"toc-item\"><li><span><a href=\"#Use-pyresample-to-plot-channel-30-radiances\" data-toc-modified-id=\"Use-pyresample-to-plot-channel-30-radiances-1\"><span class=\"toc-item-num\">1&nbsp;&nbsp;</span>Use pyresample to plot channel 30 radiances</a></span></li><li><span><a href=\"#Assignment-5----plot-channel-30\" data-toc-modified-id=\"Assignment-5----plot-channel-30-2\"><span class=\"toc-item-num\">2&nbsp;&nbsp;</span>Assignment 5 -- plot channel 30</a></span></li><li><span><a href=\"#Read-the-lons/lats-from-the-MYD03-file\" data-toc-modified-id=\"Read-the-lons/lats-from-the-MYD03-file-3\"><span class=\"toc-item-num\">3&nbsp;&nbsp;</span>Read the lons/lats from the MYD03 file</a></span></li><li><span><a href=\"#get-the-map-projection-from-corners.json\" data-toc-modified-id=\"get-the-map-projection-from-corners.json-4\"><span class=\"toc-item-num\">4&nbsp;&nbsp;</span>get the map projection from corners.json</a></span></li><li><span><a href=\"#Use-pyresample-to-define-a-new-grid-in-this-projection\" data-toc-modified-id=\"Use-pyresample-to-define-a-new-grid-in-this-projection-5\"><span class=\"toc-item-num\">5&nbsp;&nbsp;</span>Use pyresample to define a new grid in this projection</a></span></li><li><span><a href=\"#resample-the-brightness-temperatures\" data-toc-modified-id=\"resample-the-brightness-temperatures-6\"><span class=\"toc-item-num\">6&nbsp;&nbsp;</span>resample the brightness temperatures</a></span></li><li><span><a href=\"#replace-missing-values-with-floating-point-nan\" data-toc-modified-id=\"replace-missing-values-with-floating-point-nan-7\"><span class=\"toc-item-num\">7&nbsp;&nbsp;</span>replace missing values with floating point nan</a></span></li><li><span><a href=\"#Plot-the-image-using-cartopy\" data-toc-modified-id=\"Plot-the-image-using-cartopy-8\"><span class=\"toc-item-num\">8&nbsp;&nbsp;</span>Plot the image using cartopy</a></span></li></ul></div>"
   ]
  },
  {
   "cell_type": "markdown",
   "metadata": {},
   "source": [
    "# Use pyresample to plot channel 30 radiances\n",
    "\n",
    "This notebook uses a MYD03 file and a modis_chans.hdf file to resample the channel 30 radiance\n",
    "from your granule onto a laea projection.\n",
    "\n",
    "I've deleted two cells below (sections 5 and 6).  Using the cartopy_resample_ch30.ipynb and\n",
    "the assign4_solution.ipynb notebooks, fill them in with the code that plots the channel 30\n",
    "brightness temperature for your granule.\n",
    "\n"
   ]
  },
  {
   "cell_type": "code",
   "execution_count": null,
   "metadata": {},
   "outputs": [],
   "source": [
    "import a301\n",
    "import json\n",
    "from a301.utils.data_read import download\n",
    "import a301\n",
    "import pprint\n",
    "import shutil\n",
    "from pyhdf.SD import SD, SDC\n",
    "import json\n",
    "import pprint\n",
    "import cartopy\n",
    "from pyresample import kd_tree\n",
    "from a301.scripts.modismeta_read import parseMeta\n",
    "\n"
   ]
  },
  {
   "cell_type": "code",
   "execution_count": null,
   "metadata": {},
   "outputs": [],
   "source": [
    "import cartopy.crs as ccrs\n",
    "import matplotlib.pyplot as plt\n",
    "import cartopy\n",
    "from pathlib import Path\n",
    "import pprint\n",
    "import numpy as np\n",
    "import pdb\n",
    "import shutil\n",
    "#"
   ]
  },
  {
   "cell_type": "markdown",
   "metadata": {},
   "source": [
    "First run the modis_multichannel.ipynb notebook for your granule and get a\n",
    "calibrated ch30,ch31 radiance file out.  Copy tha file into your a301_code/data directory.\n",
    "\n"
   ]
  },
  {
   "cell_type": "markdown",
   "metadata": {},
   "source": [
    "# Read the lons/lats from the MYD03 file\n",
    "\n"
   ]
  },
  {
   "cell_type": "code",
   "execution_count": null,
   "metadata": {},
   "outputs": [],
   "source": [
    "#\n",
    "# this cell copies your files to the following generic files if they don't exist\n",
    "#\n",
    "generic_rad = a301.data_dir / Path('rad_file_2018_10_1.hdf')\n",
    "generic_m3 = a301.data_dir / Path('m3_file_2018_10_1.hdf')\n",
    "#\n",
    "# put your MYD03 file and you modis radiance file names here instead of my files\n",
    "#\n",
    "m3_file = a301.data_dir / Path('MYD03.A2013222.2105.006.2013223155808.hdf')\n",
    "rad_file = a301.data_dir / Path('modis_chans_2018_9_24.hdf')\n",
    "\n",
    "shutil.copy(m3_file,generic_m3)\n",
    "shutil.copy(rad_file,generic_rad)\n",
    "\n",
    "rad_file = SD(str(generic_rad), SDC.READ)\n",
    "rad_filename = rad_file.filename\n",
    "rad_file.end()\n",
    "print(f\"\\nworking with radiance file {generic_rad}\\n\"\n",
    "      f\"with original data {rad_filename}\\n\")\n",
    "m3_metadata=parseMeta(generic_m3)\n",
    "print(f\"\\nworking with m3_file {generic_m3} \\n\"\n",
    "      f\"with original data {m3_metadata['filename']}\")"
   ]
  },
  {
   "cell_type": "code",
   "execution_count": null,
   "metadata": {},
   "outputs": [],
   "source": [
    "# Read the lats and lons from the MYD03 file\n",
    "print(f'reading {generic_m3}')\n",
    "m3_file = SD(str(generic_m3), SDC.READ)\n",
    "lats = m3_file.select('Latitude').get()\n",
    "lons = m3_file.select('Longitude').get()\n",
    "m3_file.end()"
   ]
  },
  {
   "cell_type": "code",
   "execution_count": null,
   "metadata": {},
   "outputs": [],
   "source": [
    "#Read ch30 from the generic_rad file\n",
    "rad_file = SD(str(generic_rad), SDC.READ)\n",
    "ch30 = rad_file.select('ch30').get()\n",
    "rad_file.end()"
   ]
  },
  {
   "cell_type": "markdown",
   "metadata": {},
   "source": [
    "# get the map projection from corners.json\n",
    "\n",
    "Get the map  projection and extent from corners.json that were written\n",
    "by cartopy_mapping_pyproject.ipynb for your granule"
   ]
  },
  {
   "cell_type": "code",
   "execution_count": null,
   "metadata": {},
   "outputs": [],
   "source": [
    "json_file = a301.data_dir / Path('corners.json')\n",
    "with open(json_file,'r') as f:\n",
    "    map_dict=json.load(f)\n",
    "pprint.pprint(map_dict)"
   ]
  },
  {
   "cell_type": "markdown",
   "metadata": {},
   "source": [
    "# Calculate chan 30 brightness temperature\n",
    "\n",
    "copy code from the assignment4 solution using planck_invert for channel 30"
   ]
  },
  {
   "cell_type": "code",
   "execution_count": null,
   "metadata": {
    "deletable": false,
    "nbgrader": {
     "cell_type": "code",
     "checksum": "870c05cbc36f7de22376c9837e8babc0",
     "grade": true,
     "grade_id": "cell-220fd5589f554e61",
     "locked": false,
     "points": 3,
     "schema_version": 2,
     "solution": true
    }
   },
   "outputs": [],
   "source": [
    "# YOUR CODE HERE\n",
    "raise NotImplementedError()"
   ]
  },
  {
   "cell_type": "markdown",
   "metadata": {},
   "source": [
    "# resample the brightness temperatures\n",
    "\n",
    "now put the brightness temperatures on the grid following cartopy_resample_ch30.ipynb"
   ]
  },
  {
   "cell_type": "code",
   "execution_count": null,
   "metadata": {
    "deletable": false,
    "nbgrader": {
     "cell_type": "code",
     "checksum": "f0e2eb918ac06a1db888c32ea334718e",
     "grade": true,
     "grade_id": "cell-f18cfcc66b43158d",
     "locked": false,
     "points": 3,
     "schema_version": 2,
     "solution": true
    }
   },
   "outputs": [],
   "source": [
    "# YOUR CODE HERE\n",
    "raise NotImplementedError()"
   ]
  },
  {
   "cell_type": "markdown",
   "metadata": {},
   "source": [
    "# replace missing values with floating point nan"
   ]
  },
  {
   "cell_type": "code",
   "execution_count": null,
   "metadata": {},
   "outputs": [],
   "source": [
    "nan_value = np.array([np.nan],dtype=np.float32)[0]\n",
    "image_30[image_30< -9000]=nan_value"
   ]
  },
  {
   "cell_type": "markdown",
   "metadata": {},
   "source": [
    "# Plot the image using cartopy"
   ]
  },
  {
   "cell_type": "code",
   "execution_count": null,
   "metadata": {},
   "outputs": [],
   "source": [
    "crs = area_def.to_cartopy_crs()\n",
    "fig, ax = plt.subplots(1, 1, figsize=(10,10),\n",
    "                          subplot_kw={'projection': crs})\n",
    "ax.gridlines(linewidth=2)\n",
    "ax.add_feature(cartopy.feature.GSHHSFeature(scale='coarse', levels=[1,2,3]));\n",
    "ax.set_extent(crs.bounds,crs)\n",
    "cs=ax.imshow(image_30, transform=crs, extent=crs.bounds, origin='upper',alpha=0.8)\n",
    "fig.colorbar(cs);"
   ]
  },
  {
   "cell_type": "code",
   "execution_count": null,
   "metadata": {},
   "outputs": [],
   "source": []
  }
 ],
 "metadata": {
  "hide_input": false,
  "kernelspec": {
   "display_name": "Python 3",
   "language": "python",
   "name": "python3"
  },
  "language_info": {
   "codemirror_mode": {
    "name": "ipython",
    "version": 3
   },
   "file_extension": ".py",
   "mimetype": "text/x-python",
   "name": "python",
   "nbconvert_exporter": "python",
   "pygments_lexer": "ipython3",
   "version": "3.6.6"
  },
  "toc": {
   "base_numbering": 1,
   "nav_menu": {},
   "number_sections": true,
   "sideBar": false,
   "skip_h1_title": false,
   "title_cell": "Table of Contents",
   "title_sidebar": "Contents",
   "toc_cell": true,
   "toc_position": {},
   "toc_section_display": true,
   "toc_window_display": false
  }
 },
 "nbformat": 4,
 "nbformat_minor": 2
}
