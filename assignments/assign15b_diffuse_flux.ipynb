{
 "cells": [
  {
   "cell_type": "markdown",
   "metadata": {
    "toc": true
   },
   "source": [
    "<h1>Table of Contents<span class=\"tocSkip\"></span></h1>\n",
    "<div class=\"toc\"><ul class=\"toc-item\"><li><span><a href=\"#Introduction\" data-toc-modified-id=\"Introduction-1\"><span class=\"toc-item-num\">1&nbsp;&nbsp;</span>Introduction</a></span></li><li><span><a href=\"#15B-Flux-transmission-problem\" data-toc-modified-id=\"15B-Flux-transmission-problem-2\"><span class=\"toc-item-num\">2&nbsp;&nbsp;</span>15B Flux transmission problem</a></span></li></ul></div>"
   ]
  },
  {
   "cell_type": "markdown",
   "metadata": {},
   "source": [
    "# Introduction\n",
    "\n",
    "\n",
    "\n",
    "In the [flux_schwartzchild](https://clouds.eos.ubc.ca/~phil/courses/atsc301/flux_schwartzchild.html) notes I claimed\n",
    " that the following approximation was a good one:\n",
    " \n",
    " $$\\hat{t}_f =  2 \\int_0^1 \\mu \\exp \\left (- \\frac{\\tau }{\\mu} \\right ) d\\mu\n",
    "       \\approx  \\exp \\left (-1.66 \\tau \\right )$$\n",
    "       \n",
    " We can check this with an exact answer, since this integral is important enough to have a function defined for it in the scipy math module.  First, be sure you understand how the change in variables \n",
    " \n",
    " $$u = \\mu^{-1}$$\n",
    " \n",
    " Transforms this equation into the **third exponential integral**:\n",
    " \n",
    " $$\\hat{t}_f = 2 \\int_1^\\infty \\frac{\\exp(-u \\tau)}{u^3} du$$\n",
    " \n",
    " The cell below graphs this function which in python is available as::\n",
    " \n",
    "     scipy.special.expn(3,the_tau))\n",
    " \n",
    " "
   ]
  },
  {
   "cell_type": "code",
   "execution_count": null,
   "metadata": {},
   "outputs": [],
   "source": [
    "\"\"\"\n",
    "   plot 2*scipy.special.expn(3,the_tau))\n",
    "   this is the accurate version of the flux transmission function\n",
    "   defined above\n",
    "\"\"\"   \n",
    "%matplotlib inline\n",
    "from scipy.special import expn \n",
    "import numpy as np\n",
    "import matplotlib.pyplot as plt\n",
    "import matplotlib\n",
    "matplotlib.style.use('ggplot')\n",
    "tau = np.arange(0.1,5,0.1)\n",
    "flux_trans = 2*expn(3.,tau)\n",
    "fig, ax =plt.subplots(1,1)\n",
    "ax.plot(tau,flux_trans,label='exact')\n",
    "ax.plot(tau,np.exp(-1.66*tau),label='approx')\n",
    "ax.legend()\n",
    "ax.set(ylabel='flux_trans',xlabel=r'vertical optical depth $\\tau$');"
   ]
  },
  {
   "cell_type": "markdown",
   "metadata": {},
   "source": [
    "# 15B Flux transmission problem\n",
    "\n",
    "In the cell below, add 2 lines to ax.\n",
    "\n",
    "The first line should plot the numerical approximation to\n",
    "\n",
    "$$\\hat{t}_f = 2 \\int_1^\\infty \\frac{\\exp(-u \\tau)}{u^3} du$$\n",
    "\n",
    "using np.sum and np.diff as usual.  The x axis should use these tau values\n",
    "\n",
    "    tau=np.arange(0.1,5,0.1)\n",
    "    \n",
    "Make the line green, with a linewidth of lw=5 so it stands out (it's too late\n",
    "at this point to add it to the legend easily, although that can be done).\n",
    "\n",
    "For the second line, plot the ordinary vertical transmission:\n",
    "\n",
    "$$\\hat{t} = \\exp(-\\tau)$$\n",
    "\n",
    "for comparison, as a black line with lw=5.\n",
    "\n",
    "To show the figure, the last line in your cell should be::\n",
    "\n",
    "    display(fig)"
   ]
  },
  {
   "cell_type": "code",
   "execution_count": null,
   "metadata": {
    "deletable": false,
    "nbgrader": {
     "cell_type": "code",
     "checksum": "60325a97c3b77fdfa8af1e71a221d271",
     "grade": true,
     "grade_id": "cell-dc415abb23bb771d",
     "locked": false,
     "points": 5,
     "schema_version": 2,
     "solution": true
    }
   },
   "outputs": [],
   "source": [
    "# YOUR CODE HERE\n",
    "raise NotImplementedError()\n",
    "\n"
   ]
  }
 ],
 "metadata": {
  "kernelspec": {
   "display_name": "Python 3",
   "language": "python",
   "name": "python3"
  },
  "language_info": {
   "codemirror_mode": {
    "name": "ipython",
    "version": 3
   },
   "file_extension": ".py",
   "mimetype": "text/x-python",
   "name": "python",
   "nbconvert_exporter": "python",
   "pygments_lexer": "ipython3",
   "version": "3.6.6"
  },
  "toc": {
   "base_numbering": 1,
   "nav_menu": {},
   "number_sections": true,
   "sideBar": false,
   "skip_h1_title": false,
   "title_cell": "Table of Contents",
   "title_sidebar": "Contents",
   "toc_cell": true,
   "toc_position": {},
   "toc_section_display": true,
   "toc_window_display": false
  }
 },
 "nbformat": 4,
 "nbformat_minor": 2
}
