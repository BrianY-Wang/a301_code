{
 "cells": [
  {
   "cell_type": "markdown",
   "metadata": {
    "toc": true
   },
   "source": [
    "<h1>Table of Contents<span class=\"tocSkip\"></span></h1>\n",
    "<div class=\"toc\"><ul class=\"toc-item\"><li><span><a href=\"#Water-vapor-retrieval-using-MYD05-data\" data-toc-modified-id=\"Water-vapor-retrieval-using-MYD05-data-1\"><span class=\"toc-item-num\">1&nbsp;&nbsp;</span>Water vapor retrieval using MYD05 data</a></span><ul class=\"toc-item\"><li><span><a href=\"#Near-IR-vs.-IR-datasets\" data-toc-modified-id=\"Near-IR-vs.-IR-datasets-1.1\"><span class=\"toc-item-num\">1.1&nbsp;&nbsp;</span>Near IR vs. IR datasets</a></span></li><li><span><a href=\"#What-this-notebook-does\" data-toc-modified-id=\"What-this-notebook-does-1.2\"><span class=\"toc-item-num\">1.2&nbsp;&nbsp;</span>What this notebook does</a></span></li></ul></li><li><span><a href=\"#Setup\" data-toc-modified-id=\"Setup-2\"><span class=\"toc-item-num\">2&nbsp;&nbsp;</span>Setup</a></span></li><li><span><a href=\"#Read-in-the-1km-and-5km-water-vapor-files\" data-toc-modified-id=\"Read-in-the-1km-and-5km-water-vapor-files-3\"><span class=\"toc-item-num\">3&nbsp;&nbsp;</span>Read in the 1km and 5km water vapor files</a></span><ul class=\"toc-item\"><li><span><a href=\"#Start-with-the-lats/lons-for-1km-and-5km\" data-toc-modified-id=\"Start-with-the-lats/lons-for-1km-and-5km-3.1\"><span class=\"toc-item-num\">3.1&nbsp;&nbsp;</span>Start with the lats/lons for 1km and 5km</a></span></li><li><span><a href=\"#Get-the-IR-vapor-plus-5-of-its-attributes\" data-toc-modified-id=\"Get-the-IR-vapor-plus-5-of-its-attributes-3.2\"><span class=\"toc-item-num\">3.2&nbsp;&nbsp;</span>Get the IR vapor plus 5 of its attributes</a></span></li><li><span><a href=\"#Replace--9999-with-np.nan\" data-toc-modified-id=\"Replace--9999-with-np.nan-3.3\"><span class=\"toc-item-num\">3.3&nbsp;&nbsp;</span>Replace -9999 with np.nan</a></span></li><li><span><a href=\"#now-scale-the-data-and-histogram-it\" data-toc-modified-id=\"now-scale-the-data-and-histogram-it-3.4\"><span class=\"toc-item-num\">3.4&nbsp;&nbsp;</span>now scale the data and histogram it</a></span></li><li><span><a href=\"#Repeat-for-the-1-km-near-ir-data\" data-toc-modified-id=\"Repeat-for-the-1-km-near-ir-data-3.5\"><span class=\"toc-item-num\">3.5&nbsp;&nbsp;</span>Repeat for the 1 km near-ir data</a></span></li><li><span><a href=\"#Note-that-the--scaled-wv-values-are-similar-between-near_ir-and-ir-retrievals\" data-toc-modified-id=\"Note-that-the--scaled-wv-values-are-similar-between-near_ir-and-ir-retrievals-3.6\"><span class=\"toc-item-num\">3.6&nbsp;&nbsp;</span>Note that the  scaled wv values are similar between near_ir and ir retrievals</a></span><ul class=\"toc-item\"><li><span><a href=\"#Resample-the-5km-IR-retrieval-onto-a-laea-xy-grid\" data-toc-modified-id=\"Resample-the-5km-IR-retrieval-onto-a-laea-xy-grid-3.6.1\"><span class=\"toc-item-num\">3.6.1&nbsp;&nbsp;</span>Resample the 5km IR retrieval onto a laea xy grid</a></span></li><li><span><a href=\"#Resample-the-1km-near-ir-water-vapor-on-the-same-grid\" data-toc-modified-id=\"Resample-the-1km-near-ir-water-vapor-on-the-same-grid-3.6.2\"><span class=\"toc-item-num\">3.6.2&nbsp;&nbsp;</span>Resample the 1km near-ir water vapor on the same grid</a></span></li></ul></li></ul></li><li><span><a href=\"#Map-the-data\" data-toc-modified-id=\"Map-the-data-4\"><span class=\"toc-item-num\">4&nbsp;&nbsp;</span>Map the data</a></span><ul class=\"toc-item\"><li><span><a href=\"#now-use-the-1-km-MYD03-lons-and-lats-to-get-a-full-resolution-xy-grid\" data-toc-modified-id=\"now-use-the-1-km-MYD03-lons-and-lats-to-get-a-full-resolution-xy-grid-4.1\"><span class=\"toc-item-num\">4.1&nbsp;&nbsp;</span>now use the 1 km MYD03 lons and lats to get a full resolution xy grid</a></span></li></ul></li><li><span><a href=\"#Save-the-mapped-images\" data-toc-modified-id=\"Save-the-mapped-images-5\"><span class=\"toc-item-num\">5&nbsp;&nbsp;</span>Save the mapped images</a></span><ul class=\"toc-item\"><li><span><a href=\"#Now-save-these-three-images-plus-their-area_def's-for-future-plotting\" data-toc-modified-id=\"Now-save-these-three-images-plus-their-area_def's-for-future-plotting-5.1\"><span class=\"toc-item-num\">5.1&nbsp;&nbsp;</span>Now save these three images plus their area_def's for future plotting</a></span></li><li><span><a href=\"#Create-a-directory-to-hold-the-images-and-area_def-dictionaries\" data-toc-modified-id=\"Create-a-directory-to-hold-the-images-and-area_def-dictionaries-5.2\"><span class=\"toc-item-num\">5.2&nbsp;&nbsp;</span>Create a directory to hold the images and area_def dictionaries</a></span></li><li><span><a href=\"#Here's-a-function-that-writes-the-image-plus-metadata-to-npz-and-json-files\" data-toc-modified-id=\"Here's-a-function-that-writes-the-image-plus-metadata-to-npz-and-json-files-5.3\"><span class=\"toc-item-num\">5.3&nbsp;&nbsp;</span>Here's a function that writes the image plus metadata to npz and json files</a></span></li><li><span><a href=\"#Write-out-images,-putting-useful-metadeta-in-metadata_dict\" data-toc-modified-id=\"Write-out-images,-putting-useful-metadeta-in-metadata_dict-5.4\"><span class=\"toc-item-num\">5.4&nbsp;&nbsp;</span>Write out images, putting useful metadeta in metadata_dict</a></span></li></ul></li></ul></div>"
   ]
  },
  {
   "cell_type": "markdown",
   "metadata": {},
   "source": [
    "# Water vapor retrieval using MYD05 data"
   ]
  },
  {
   "cell_type": "markdown",
   "metadata": {},
   "source": [
    "## Near IR vs. IR datasets\n",
    "\n",
    "As we will discuss in class, Modis provides two separate measurements on the column integrated water vapor.\n",
    "The high level overview is given in the [modis water vapor products](https://ladsweb.modaps.eosdis.nasa.gov/missions-and-measurements/products/water-vapor/MYD05_L2).  Basically the reason for two separate retrievals is that they have different strengths and weaknesses.\n",
    "\n",
    "* Near Infrared Retrieval\n",
    "\n",
    "  * Uses reflected photons in two separate water vapor absorption bands \n",
    "\n",
    "  * Strengths\n",
    "  \n",
    "    * 1 km spatial resolution at nadir\n",
    "    \n",
    "    * retrieval doesn't depend on temperature difference between vapor and surface\n",
    "    \n",
    "    * more accurate than longwave\n",
    "   \n",
    "  * Weaknesses\n",
    "  \n",
    "    * Doesn't work at night\n",
    "    \n",
    "    * Doesn't work over dark surfaces (can work over ocean\n",
    "      as long as the pixel is reflecting direct sunlight (\"sunglint\")\n",
    "      \n",
    "    * Needs separate MYD03 file for lats/lons\n",
    "      \n",
    "* Infrared Retrieval\n",
    "\n",
    "  * Uses the water absorption bands near 11 microns\n",
    "  \n",
    "  * Strengths\n",
    "  \n",
    "    * Works day/night, over dark surfaces\n",
    "    \n",
    "    * 5 km lat/lons included in file\n",
    "    \n",
    "  * Weaknesses\n",
    "  \n",
    "    * 5 km pixels at nadir\n",
    "  \n",
    "    * Doesn't work when most of the vapor is in the boundary layer and has about the same temperature\n",
    "      as the surface"
   ]
  },
  {
   "cell_type": "markdown",
   "metadata": {},
   "source": [
    "## What this notebook does\n",
    "\n",
    "1. Reads a MYD03 file named m3_file_2018_10_1.hdf and a MYD05 file named myd05_l2_10_7.hdf located\n",
    "   in a301.data_dir and grabs latitudes, longitudes and two arrays: Water_Vapor_Near_Infrared and \n",
    "   Water_Vapor_Infrared\n",
    "   \n",
    "1. Scales the water vapar arrays by scale_factor and offset to produce the retrieved column water vapor\n",
    "   in cm\n",
    "   \n",
    "1. Maps the two arrays onto the same 5km array for direct comparison\n",
    "\n",
    "1. Maps the near_ir array onto a 1 km grid to show the full resolution.\n",
    "\n",
    "1. Writes the three images with their area_def map information and metadata out to new folders in\n",
    "   a301_code/map_data/wv_maps as npz files (for the images) and json files (for the metadata)"
   ]
  },
  {
   "cell_type": "markdown",
   "metadata": {},
   "source": [
    "# Setup\n",
    "\n",
    "1. Download the MYD05 granule that corresponds to your 5 minute date/time.  It should look something like:\n",
    "\n",
    "         MYD05_L2.A2013222.2105.061.2018048043105.hdf\n",
    "         \n",
    "1. Rename it to **myd05_l2_10_7.hdf** and copy to a301.data_dir\n",
    "\n",
    "1. Run the checkup program:\n",
    "\n",
    "         python -m a301.install_tests.wv_resample_test\n",
    "         \n",
    "         \n",
    "   which should produce something like this:\n",
    " \n",
    "         working on /Users/phil/repos/a301_code/data/m3_file_2018_10_1.hdf, originally was MYD03.A2013222.2105.006.2013223155808.hdf\n",
    "   \n",
    "         ****************************************\n",
    "         lats_1km.shape, lons_1km.shape: (2040, 1354),(2040, 1354)\n",
    "         ****************************************\n",
    "         through\n",
    "         working on /Users/phil/repos/a301_code/data/myd05_l2_10_7.hdf, originally was MYD05_L2.A2013222.2105.061.2018048043105.hdf\n",
    "         ****************************************\n",
    "         nearir vapor array shape is: (2040, 1354)\n",
    "         ****************************************\n",
    "         ****************************************\n",
    "         ir vapor array shape is: (408, 270)\n",
    "         ****************************************\n",
    "         ****************************************\n",
    "         lats_5km arrayshape is: (408, 270)\n",
    "         ****************************************\n",
    "         ****************************************\n",
    "         lons_5km arrayshape is: (408, 270)\n",
    "         ****************************************\n",
    "         was able to regrid the nearir image, xy shape is (2244, 1489)\n",
    "         was able to regrid the ir image, xy shape is (448, 297)\n",
    "         data looks good, ready to go\n"
   ]
  },
  {
   "cell_type": "code",
   "execution_count": 1,
   "metadata": {},
   "outputs": [],
   "source": [
    "from matplotlib import cm\n",
    "\n",
    "import numpy as np\n",
    "from matplotlib import pyplot as plt\n",
    "from matplotlib.colors import Normalize\n",
    "from IPython.display import Image,display\n",
    "\n",
    "#Image('figures/MYBRGB.A2016224.2100.006.2016237025650.jpg',width=600)"
   ]
  },
  {
   "cell_type": "code",
   "execution_count": 2,
   "metadata": {},
   "outputs": [],
   "source": [
    "%matplotlib inline\n",
    "from matplotlib import cm\n",
    "\n",
    "import numpy as np\n",
    "from matplotlib import pyplot as plt\n",
    "from matplotlib.colors import Normalize\n",
    "from IPython.display import Image,display\n",
    "import a301\n",
    "from a301.geometry import get_proj_params\n",
    "from a301.scripts.modismeta_read import parseMeta\n",
    "from pathlib import Path\n",
    "from pyhdf.SD import SD, SDC\n",
    "import pprint\n",
    "import json"
   ]
  },
  {
   "cell_type": "markdown",
   "metadata": {},
   "source": [
    "# Read in the 1km and 5km water vapor files"
   ]
  },
  {
   "cell_type": "markdown",
   "metadata": {},
   "source": [
    "## Start with the lats/lons for 1km and 5km"
   ]
  },
  {
   "cell_type": "code",
   "execution_count": 3,
   "metadata": {},
   "outputs": [],
   "source": [
    "m5_file = a301.data_dir / Path('myd05_l2_10_7.hdf')\n",
    "m3_file = a301.data_dir / Path('m3_file_2018_10_1.hdf')\n",
    "\n",
    "the_file = SD(str(m3_file), SDC.READ)\n",
    "lats_1km = the_file.select('Latitude').get()\n",
    "lons_1km = the_file.select('Longitude').get()\n",
    "the_file.end()\n",
    "\n",
    "the_file = SD(str(m5_file), SDC.READ)\n",
    "lats_5km = the_file.select('Latitude').get()\n",
    "lons_5km = the_file.select('Longitude').get()"
   ]
  },
  {
   "cell_type": "markdown",
   "metadata": {},
   "source": [
    "## Get the IR vapor plus 5 of its attributes\n",
    "\n",
    "Store the data in a numpy array, and the attributes in a dictionary,\n",
    "using a [dictionary comprehension](https://jakevdp.github.io/WhirlwindTourOfPython/11-list-comprehensions.html)\n",
    "at line 4"
   ]
  },
  {
   "cell_type": "code",
   "execution_count": 4,
   "metadata": {},
   "outputs": [
    {
     "name": "stdout",
     "output_type": "stream",
     "text": [
      "wv_ir attributes: {'_FillValue': -9999,\n",
      " 'add_offset': 0.0,\n",
      " 'scale_factor': 0.0010000000474974513,\n",
      " 'units': 'cm',\n",
      " 'valid_range': [0, 20000]}\n"
     ]
    }
   ],
   "source": [
    "wv_ir = the_file.select('Water_Vapor_Infrared')\n",
    "attributes=['units', 'scale_factor', 'add_offset', 'valid_range', '_FillValue']\n",
    "attr_dict=wv_ir.attributes()\n",
    "wv_ir_attrs={k: attr_dict[k] for k in attributes}\n",
    "print(f'wv_ir attributes: {pprint.pformat(wv_ir_attrs)}')\n",
    "wv_ir_data = wv_ir.get()"
   ]
  },
  {
   "cell_type": "markdown",
   "metadata": {},
   "source": [
    "## Replace -9999 with np.nan\n",
    "\n",
    "Note that this has to a happen before we scale the data by the scale_factor so the -9999 can be recognized"
   ]
  },
  {
   "cell_type": "code",
   "execution_count": 5,
   "metadata": {},
   "outputs": [],
   "source": [
    "bad_data = (wv_ir_data == wv_ir_attrs['_FillValue'])\n",
    "#\n",
    "# next line converts to floating point so we can use np.nan\n",
    "#\n",
    "wv_ir_data = wv_ir_data.astype(np.float32)\n",
    "wv_ir_data[bad_data]=np.nan"
   ]
  },
  {
   "cell_type": "markdown",
   "metadata": {},
   "source": [
    "## now scale the data and histogram it"
   ]
  },
  {
   "cell_type": "code",
   "execution_count": 6,
   "metadata": {},
   "outputs": [],
   "source": [
    "wv_ir_scaled = wv_ir_data*attr_dict['scale_factor'] + attr_dict['add_offset']"
   ]
  },
  {
   "cell_type": "markdown",
   "metadata": {},
   "source": [
    "Note that we need to get rid of all nan values by taking ~ (not) np.isnan\n",
    "\n",
    "```\n",
    "plt.hist(wv_ir_scaled)\n",
    "```\n",
    "won't work"
   ]
  },
  {
   "cell_type": "code",
   "execution_count": 7,
   "metadata": {},
   "outputs": [
    {
     "data": {
      "image/png": "[encoded data removed]",
      "text/plain": [
       "<Figure size 432x288 with 1 Axes>"
      ]
     },
     "metadata": {
      "needs_background": "light"
     },
     "output_type": "display_data"
    }
   ],
   "source": [
    "plt.hist(wv_ir_scaled[~np.isnan(wv_ir_scaled)])\n",
    "ax=plt.gca()\n",
    "ax.set_title('5 km wv data (cm)');"
   ]
  },
  {
   "cell_type": "markdown",
   "metadata": {},
   "source": [
    "## Repeat for the 1 km near-ir data\n",
    "\n",
    "Use a dictionary comprehension again to move the attributes in attrib_list into a dict at line 4"
   ]
  },
  {
   "cell_type": "code",
   "execution_count": 8,
   "metadata": {},
   "outputs": [
    {
     "name": "stdout",
     "output_type": "stream",
     "text": [
      "wv_nearir attributes: {'_FillValue': -9999,\n",
      " 'add_offset': 0.0,\n",
      " 'scale_factor': 0.0010000000474974513,\n",
      " 'unit': 'cm',\n",
      " 'valid_range': [0, 20000]}\n"
     ]
    }
   ],
   "source": [
    "wv_nearir = the_file.select('Water_Vapor_Near_Infrared')\n",
    "attrib_list=['unit', 'scale_factor', 'add_offset', 'valid_range', '_FillValue']\n",
    "attr_dict=wv_nearir.attributes()\n",
    "wv_nearir_attrs={k: attr_dict[k] for k in attrib_list}\n",
    "print(f'wv_nearir attributes: {pprint.pformat(wv_nearir_attrs)}')\n",
    "wv_nearir_data = wv_nearir.get()\n",
    "the_file.end()"
   ]
  },
  {
   "cell_type": "code",
   "execution_count": 9,
   "metadata": {},
   "outputs": [],
   "source": [
    "bad_data = wv_nearir_data == wv_nearir_attrs['_FillValue']\n",
    "wv_nearir_data = wv_nearir_data.astype(np.float32)\n",
    "wv_nearir_data[bad_data]=np.nan\n",
    "wv_nearir_scaled = wv_nearir_data*attr_dict['scale_factor'] + attr_dict['add_offset']"
   ]
  },
  {
   "cell_type": "markdown",
   "metadata": {},
   "source": [
    "## Note that the  scaled wv values are similar between near_ir and ir retrievals"
   ]
  },
  {
   "cell_type": "code",
   "execution_count": 18,
   "metadata": {
    "scrolled": true
   },
   "outputs": [
    {
     "data": {
      "image/png": "[encoded data removed]",
      "text/plain": [
       "<Figure size 432x288 with 1 Axes>"
      ]
     },
     "metadata": {
      "needs_background": "light"
     },
     "output_type": "display_data"
    }
   ],
   "source": [
    "plt.hist(wv_nearir_scaled[~np.isnan(wv_nearir_scaled)])\n",
    "ax=plt.gca()\n",
    "ax.set_title('1 km water vapor (cm)');"
   ]
  },
  {
   "cell_type": "markdown",
   "metadata": {},
   "source": [
    "### Resample the 5km IR retrieval onto a laea xy grid\n",
    "\n",
    "Let swath_def.compute_optimal_bb_area choose the extent and dimensions for\n",
    "the low resolution (lr) image \n"
   ]
  },
  {
   "cell_type": "code",
   "execution_count": 11,
   "metadata": {},
   "outputs": [
    {
     "name": "stdout",
     "output_type": "stream",
     "text": [
      "\n",
      "dump area definition:\n",
      "Area ID: modis_ir_wv\n",
      "Description: ir wv retrieval modis 5 km resolution (lr=low resolution)\n",
      "Projection: {'datum': 'WGS84', 'ellps': 'WGS84', 'lat_0': '39.45806717126055', 'lon_0': '-121.46497661987351', 'proj': 'laea', 'x_0': '0.0', 'y_0': '0.0'}\n",
      "Number of columns: 297\n",
      "Number of rows: 448\n",
      "Area extent: (-1240326.745046788, -1155685.6368334254, 1531068.9578429635, 1278445.143417062)\n",
      "\n",
      "\n",
      "x and y pixel dimensions in meters:\n",
      "9331.298662928457\n",
      "5433.327634487695\n",
      "\n"
     ]
    },
    {
     "name": "stderr",
     "output_type": "stream",
     "text": [
      "/Users/phil/mb36/lib/python3.6/site-packages/ipykernel_launcher.py:13: RuntimeWarning: invalid value encountered in less\n",
      "  del sys.path[0]\n"
     ]
    }
   ],
   "source": [
    "# %load temp.md\n",
    "from pyresample import  SwathDefinition, kd_tree, geometry\n",
    "proj_params = get_proj_params(m5_file)\n",
    "swath_def = SwathDefinition(lons_5km, lats_5km)\n",
    "area_def_lr=swath_def.compute_optimal_bb_area(proj_dict=proj_params)\n",
    "area_def_lr.name=\"ir wv retrieval modis 5 km resolution (lr=low resolution)\"\n",
    "area_def_lr.area_id='modis_ir_wv'\n",
    "area_def_lr.job_id = area_def_lr.area_id\n",
    "fill_value=-9999.\n",
    "image_wv_ir = kd_tree.resample_nearest(swath_def, wv_ir_scaled.ravel(),\n",
    "                                  area_def_lr, radius_of_influence=5000, \n",
    "                                      nprocs=2,fill_value=fill_value)\n",
    "image_wv_ir[image_wv_ir < -9000]=np.nan\n",
    "print(f'\\ndump area definition:\\n{area_def_lr}\\n')\n",
    "print((f'\\nx and y pixel dimensions in meters:'\n",
    "       f'\\n{area_def_lr.pixel_size_x}\\n{area_def_lr.pixel_size_y}\\n'))"
   ]
  },
  {
   "cell_type": "markdown",
   "metadata": {},
   "source": [
    "### Resample the 1km near-ir water vapor on the same grid\n",
    "\n",
    "Reuse area_def_lr for the high resolution nearir image so we can compare directly with low resolution ir"
   ]
  },
  {
   "cell_type": "code",
   "execution_count": 12,
   "metadata": {},
   "outputs": [
    {
     "name": "stderr",
     "output_type": "stream",
     "text": [
      "/Users/phil/mb36/lib/python3.6/site-packages/ipykernel_launcher.py:6: RuntimeWarning: invalid value encountered in less\n",
      "  \n"
     ]
    }
   ],
   "source": [
    "swath_def = SwathDefinition(lons_1km, lats_1km)\n",
    "fill_value=-9999.\n",
    "image_wv_nearir_lr = kd_tree.resample_nearest(swath_def, wv_nearir_scaled.ravel(),\n",
    "                                  area_def_lr, radius_of_influence=5000, \n",
    "                                      nprocs=2,fill_value=fill_value)\n",
    "image_wv_nearir_lr[image_wv_nearir_lr < -9000]=np.nan"
   ]
  },
  {
   "cell_type": "code",
   "execution_count": 20,
   "metadata": {},
   "outputs": [
    {
     "data": {
      "image/png": "[encoded data removed]",
      "text/plain": [
       "<Figure size 432x288 with 1 Axes>"
      ]
     },
     "metadata": {
      "needs_background": "light"
     },
     "output_type": "display_data"
    }
   ],
   "source": [
    "plt.hist(image_wv_nearir_lr[~np.isnan(image_wv_nearir_lr)])\n",
    "ax=plt.gca()\n",
    "ax.set_title('1 km water vapor (cm), low resolution nearir scaled to 5km (lr)');"
   ]
  },
  {
   "cell_type": "markdown",
   "metadata": {},
   "source": [
    "# Map the data\n",
    "\n",
    "## now use the 1 km MYD03 lons and lats to get a full resolution xy grid\n",
    "\n",
    "resample the neair wv onto that grid to show full resolution image"
   ]
  },
  {
   "cell_type": "code",
   "execution_count": 13,
   "metadata": {},
   "outputs": [
    {
     "name": "stderr",
     "output_type": "stream",
     "text": [
      "/Users/phil/mb36/lib/python3.6/site-packages/ipykernel_launcher.py:13: RuntimeWarning: invalid value encountered in less\n",
      "  del sys.path[0]\n"
     ]
    }
   ],
   "source": [
    "### Resample the 1 km near-ir water vapor onto a 1 km grid\n",
    "\n",
    "proj_params = get_proj_params(m3_file)\n",
    "swath_def = SwathDefinition(lons_1km, lats_1km)\n",
    "area_def_hr=swath_def.compute_optimal_bb_area(proj_dict=proj_params)\n",
    "area_def_hr.name=\"near ir wv retrieval modis 1 km resolution (hr=high resolution)\"\n",
    "area_def_hr.area_id=\"wv_nearir_hr\"\n",
    "area_def_hr.job_id = area_def_hr.area_id\n",
    "fill_value=-9999.\n",
    "image_wv_nearir_hr = kd_tree.resample_nearest(swath_def, wv_nearir_scaled.ravel(),\n",
    "                                  area_def_hr, radius_of_influence=5000, \n",
    "                                      nprocs=2,fill_value=fill_value)\n",
    "image_wv_nearir_hr[image_wv_nearir_hr < -9000]=np.nan"
   ]
  },
  {
   "cell_type": "markdown",
   "metadata": {},
   "source": [
    "# Save the mapped images\n",
    "## Now save these three images plus their area_def's for future plotting\n",
    "\n",
    "The function area_def_to_dict saves the pyresample area_def as a dict\n",
    "\n",
    "At line 20 note that\n",
    "```python\n",
    "    a=getattr(area_def,key) \n",
    "```\n",
    "where key='my_attribute'  is the same as\n",
    "```python\n",
    "    a=area_def.my_attribute\n",
    "```\n",
    "but you don't have to hard-code in 'my_attribute'\n"
   ]
  },
  {
   "cell_type": "code",
   "execution_count": 14,
   "metadata": {},
   "outputs": [],
   "source": [
    "import json\n",
    "\n",
    "def area_def_to_dict(area_def):\n",
    "    \"\"\"\n",
    "    given an area_def, save it as a dictionary\n",
    "    \n",
    "    Parameters\n",
    "    ----------\n",
    "    \n",
    "    area_def: pyresample area_def object\n",
    "         \n",
    "    Returns\n",
    "    -------\n",
    "    \n",
    "    out_dict: dict containing\n",
    "       area_def dictionary\n",
    "         \n",
    "    \"\"\"\n",
    "    keys=['area_id','proj_id','name','proj_dict','x_size','y_size','area_extent']\n",
    "    area_dict={key:getattr(area_def,key) for key in keys}\n",
    "    area_dict['proj_id']=area_dict['area_id']\n",
    "    return area_dict\n"
   ]
  },
  {
   "cell_type": "markdown",
   "metadata": {},
   "source": [
    "## Create a directory to hold the images and area_def dictionaries"
   ]
  },
  {
   "cell_type": "code",
   "execution_count": 15,
   "metadata": {},
   "outputs": [],
   "source": [
    "map_dir = a301.map_dir / Path('map_data/wv_maps')\n",
    "map_dir.mkdir(parents=True, exist_ok=True)"
   ]
  },
  {
   "cell_type": "markdown",
   "metadata": {},
   "source": [
    "## Here's a function that writes the image plus metadata to npz and json files\n",
    "\n",
    "We'll need to use dump_area_def when we create the metadata_dict"
   ]
  },
  {
   "cell_type": "code",
   "execution_count": 16,
   "metadata": {},
   "outputs": [],
   "source": [
    "import pdb\n",
    "def dump_image(image_array,metadata_dict,foldername,\n",
    "              image_array_name='image'):\n",
    "    \"\"\"\n",
    "    write an image plus mmetadata to a folder\n",
    "    \n",
    "    Parameters\n",
    "    ----------\n",
    "    \n",
    "    image_array: ndarray\n",
    "        the 2-d image to be saved\n",
    "    \n",
    "    foldername:  Path object or string\n",
    "        the path to the folder that holds the image files\n",
    "        \n",
    "    image_array_name:  str\n",
    "        the root name for the npz and json files\n",
    "        i.e. image.npz and image.json\n",
    "        \n",
    "    Returns: None\n",
    "       side effect -- an npz and a json file are written\n",
    "    \"\"\"\n",
    "    image_file=Path(foldername) / Path(image_array_name)\n",
    "    out_dict={image_array_name:image_array}\n",
    "    np.savez(image_file,**out_dict)\n",
    "    json_name = foldername / Path(image_array_name + '.json')\n",
    "    with open(json_name,'w') as f:\n",
    "        json.dump(metadata_dict,f,indent=4)\n",
    "    print(f\"\\ndumping {image_file}\\n and {json_name}\\n\")"
   ]
  },
  {
   "cell_type": "markdown",
   "metadata": {},
   "source": [
    "## Write out images, putting useful metadeta in metadata_dict"
   ]
  },
  {
   "cell_type": "code",
   "execution_count": 17,
   "metadata": {},
   "outputs": [
    {
     "name": "stdout",
     "output_type": "stream",
     "text": [
      "\n",
      "dumping /Users/phil/repos/a301_code/map_data/wv_maps/wv_nearir_lr\n",
      " and /Users/phil/repos/a301_code/map_data/wv_maps/wv_nearir_lr.json\n",
      "\n",
      "\n",
      "dumping /Users/phil/repos/a301_code/map_data/wv_maps/wv_nearir_hr\n",
      " and /Users/phil/repos/a301_code/map_data/wv_maps/wv_nearir_hr.json\n",
      "\n",
      "\n",
      "dumping /Users/phil/repos/a301_code/map_data/wv_maps/wv_ir\n",
      " and /Users/phil/repos/a301_code/map_data/wv_maps/wv_ir.json\n",
      "\n"
     ]
    }
   ],
   "source": [
    "image_name='wv_nearir_lr'\n",
    "metadata_dict=dict(modismeta = parseMeta(m5_file))\n",
    "metadata_dict['area_def']=area_def_to_dict(area_def_lr)\n",
    "metadata_dict['image_name']=image_name\n",
    "metadata_dict['description']='modis near ir water vapor (cm) sampled at 5 km resolution'\n",
    "metadata_dict['history']='written by level2_cartopy_resample.ipynb'\n",
    "map_dir = a301.data_dir.parent / Path('map_data/wv_maps')\n",
    "map_dir.mkdir(parents=True, exist_ok=True)\n",
    "dump_image(image_wv_nearir_lr,metadata_dict,map_dir,image_name)\n",
    "\n",
    "image_name='wv_nearir_hr'\n",
    "metadata_dict=dict(modismeta = parseMeta(m5_file))\n",
    "metadata_dict['area_def']=area_def_to_dict(area_def_hr)\n",
    "metadata_dict['image_name']=image_name\n",
    "metadata_dict['description']='modis near ir water vapor (cm) sampled at 1 km resolution'\n",
    "metadata_dict['history']='written by level2_cartopy_resample.ipynb'\n",
    "dump_image(image_wv_nearir_hr,metadata_dict,map_dir,image_name)\n",
    "\n",
    "image_name='wv_ir'\n",
    "metadata_dict=dict(modismeta = parseMeta(m5_file))\n",
    "metadata_dict['area_def']=area_def_to_dict(area_def_lr)\n",
    "metadata_dict['image_name']=image_name\n",
    "metadata_dict['description']='modis ir water vapor (cm) sampled at 5 km resolution'\n",
    "metadata_dict['history']='written by level2_cartopy_resample.ipynb'\n",
    "dump_image(image_wv_ir,metadata_dict,map_dir,image_name)"
   ]
  },
  {
   "cell_type": "code",
   "execution_count": null,
   "metadata": {},
   "outputs": [],
   "source": []
  }
 ],
 "metadata": {
  "anaconda-cloud": {},
  "kernelspec": {
   "display_name": "Python 3",
   "language": "python",
   "name": "python3"
  },
  "language_info": {
   "codemirror_mode": {
    "name": "ipython",
    "version": 3
   },
   "file_extension": ".py",
   "mimetype": "text/x-python",
   "name": "python",
   "nbconvert_exporter": "python",
   "pygments_lexer": "ipython3",
   "version": "3.6.6"
  },
  "toc": {
   "base_numbering": 1,
   "nav_menu": {},
   "number_sections": true,
   "sideBar": false,
   "skip_h1_title": false,
   "title_cell": "Table of Contents",
   "title_sidebar": "Contents",
   "toc_cell": true,
   "toc_position": {},
   "toc_section_display": true,
   "toc_window_display": false
  }
 },
 "nbformat": 4,
 "nbformat_minor": 1
}
