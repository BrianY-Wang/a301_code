{
 "cells": [
  {
   "cell_type": "markdown",
   "metadata": {
    "toc": true
   },
   "source": [
    "<h1>Table of Contents<span class=\"tocSkip\"></span></h1>\n",
    "<div class=\"toc\"><ul class=\"toc-item\"><li><span><a href=\"#Introduction\" data-toc-modified-id=\"Introduction-1\"><span class=\"toc-item-num\">1&nbsp;&nbsp;</span>Introduction</a></span></li><li><span><a href=\"#Read-in-the-height-and-reflectivity-fields\" data-toc-modified-id=\"Read-in-the-height-and-reflectivity-fields-2\"><span class=\"toc-item-num\">2&nbsp;&nbsp;</span>Read in the height and reflectivity fields</a></span></li><li><span><a href=\"#Now-go-get-the-ECMWF-temperatures\" data-toc-modified-id=\"Now-go-get-the-ECMWF-temperatures-3\"><span class=\"toc-item-num\">3&nbsp;&nbsp;</span>Now go get the ECMWF temperatures</a></span></li><li><span><a href=\"#Make-a-masked-array-of-the-reflectivity-so-that-pcolormesh-will-plot-it\" data-toc-modified-id=\"Make-a-masked-array-of-the-reflectivity-so-that-pcolormesh-will-plot-it-4\"><span class=\"toc-item-num\">4&nbsp;&nbsp;</span>Make a masked array of the reflectivity so that pcolormesh will plot it</a></span></li><li><span><a href=\"#Find-the-part-of-the-orbing-that-corresponds-to-the-3-minutes-containing-the-storm\" data-toc-modified-id=\"Find-the-part-of-the-orbing-that-corresponds-to-the-3-minutes-containing-the-storm-5\"><span class=\"toc-item-num\">5&nbsp;&nbsp;</span>Find the part of the orbing that corresponds to the 3 minutes containing the storm</a></span></li><li><span><a href=\"#convert-time-to-distance-by-using-pyproj-to-get-the-greatcircle-distance-between-shots\" data-toc-modified-id=\"convert-time-to-distance-by-using-pyproj-to-get-the-greatcircle-distance-between-shots-6\"><span class=\"toc-item-num\">6&nbsp;&nbsp;</span>convert time to distance by using pyproj to get the greatcircle distance between shots</a></span></li><li><span><a href=\"#Make-the-plot-assuming-that-height-is-the-same-for-every-shot\" data-toc-modified-id=\"Make-the-plot-assuming-that-height-is-the-same-for-every-shot-7\"><span class=\"toc-item-num\">7&nbsp;&nbsp;</span>Make the plot assuming that height is the same for every shot</a></span></li><li><span><a href=\"#Now-subset-the-ECMWF-data\" data-toc-modified-id=\"Now-subset-the-ECMWF-data-8\"><span class=\"toc-item-num\">8&nbsp;&nbsp;</span>Now subset the ECMWF data</a></span></li><li><span><a href=\"#Plot-the-ECMWF-temperatures-for-the-segment\" data-toc-modified-id=\"Plot-the-ECMWF-temperatures-for-the-segment-9\"><span class=\"toc-item-num\">9&nbsp;&nbsp;</span>Plot the ECMWF temperatures for the segment</a></span></li><li><span><a href=\"#Problem----your-task\" data-toc-modified-id=\"Problem----your-task-10\"><span class=\"toc-item-num\">10&nbsp;&nbsp;</span>Problem -- your task</a></span></li><li><span><a href=\"#Now-plot-height_vec-on-top-of-cloudsat-zvals\" data-toc-modified-id=\"Now-plot-height_vec-on-top-of-cloudsat-zvals-11\"><span class=\"toc-item-num\">11&nbsp;&nbsp;</span>Now plot height_vec on top of cloudsat zvals</a></span></li></ul></div>"
   ]
  },
  {
   "cell_type": "markdown",
   "metadata": {},
   "source": [
    "# Introduction\n",
    "\n",
    "This notebook finds the the point at which the ECMWF tempearture=0 deg C for each\n",
    "radar pulse and overlays that on the reflectivity plot to check to see whether\n",
    "the bright band occurs at the freezing level"
   ]
  },
  {
   "cell_type": "markdown",
   "metadata": {},
   "source": [
    "#  Read in the height and reflectivity fields"
   ]
  },
  {
   "cell_type": "code",
   "execution_count": null,
   "metadata": {},
   "outputs": [],
   "source": [
    "from importlib import reload\n",
    "import numpy as np\n",
    "import datetime as dt\n",
    "from datetime import timezone as tz\n",
    "from matplotlib import pyplot as plt\n",
    "import pyproj\n",
    "from numpy import ma\n",
    "import a301\n",
    "from a301.cloudsat import get_geo\n",
    "from pathlib import Path\n",
    "from pyhdf.SD import SD, SDC\n",
    "#\n",
    "# new functions to read vdata and sds arrays\n",
    "#\n",
    "from a301.cloudsat import HDFvd_read, HDFsd_read\n"
   ]
  },
  {
   "cell_type": "code",
   "execution_count": null,
   "metadata": {},
   "outputs": [],
   "source": [
    "z_file= list(a301.test_dir.glob('*GEOPROF_GRANULE*hdf'))[0]\n",
    "lats,lons,date_times,prof_times,dem_elevation=get_geo(z_file)\n",
    "radar_reflectivity, radar_attrs = HDFsd_read(z_file,'Radar_Reflectivity')\n",
    "radar_scale = radar_attrs['factor']\n",
    "radar_missing = radar_attrs['missing']\n",
    "radar_height, height_attrs = HDFsd_read(z_file,'Height')\n",
    "meters2km=1.e3"
   ]
  },
  {
   "cell_type": "markdown",
   "metadata": {},
   "source": [
    "# Now go get the ECMWF temperatures\n",
    "\n",
    "Note that they have their own height vector EC_height"
   ]
  },
  {
   "cell_type": "code",
   "execution_count": null,
   "metadata": {},
   "outputs": [],
   "source": [
    "z_file= list(a301.test_dir.glob('*ECMWF-AUX_GRANULE*hdf'))[0]\n",
    "ec_height=HDFvd_read(z_file,'EC_height')\n",
    "ec_temps, temps_attributes = HDFsd_read(z_file,'Temperature')\n",
    "ec_missing = temps_attributes['missing']"
   ]
  },
  {
   "cell_type": "markdown",
   "metadata": {},
   "source": [
    "# Make a masked array of the reflectivity so that pcolormesh will plot it\n",
    "\n",
    "note that I need to find the missing data before I divide by factor=100 to\n",
    "convert from int16 to float"
   ]
  },
  {
   "cell_type": "code",
   "execution_count": null,
   "metadata": {},
   "outputs": [],
   "source": [
    "hit=(radar_reflectivity == radar_missing)\n",
    "radar_reflectivity=radar_reflectivity.astype(np.float)\n",
    "radar_reflectivity[hit]=np.nan\n",
    "zvals = radar_reflectivity/radar_scale\n",
    "zvals=ma.masked_invalid(zvals)"
   ]
  },
  {
   "cell_type": "markdown",
   "metadata": {},
   "source": [
    "# Find the part of the orbing that corresponds to the 3 minutes containing the storm\n",
    "\n",
    "You need to enter the start_hour and start_minute for the start time of your cyclone in the granule"
   ]
  },
  {
   "cell_type": "code",
   "execution_count": null,
   "metadata": {},
   "outputs": [],
   "source": [
    "first_time=date_times[0]\n",
    "print(f'orbit start: {first_time}')\n",
    "start_hour=6\n",
    "start_minute=45\n",
    "storm_start=starttime=dt.datetime(first_time.year,first_time.month,first_time.day,\n",
    "                                        start_hour,start_minute,0,tzinfo=tz.utc)\n",
    "#\n",
    "# get 3 minutes of data from the storm_start\n",
    "#\n",
    "storm_stop=storm_start + dt.timedelta(minutes=3)\n",
    "print(f'storm start: {storm_start}')\n",
    "time_hit = np.logical_and(date_times > storm_start,date_times < storm_stop)\n",
    "storm_lats = lats[time_hit]\n",
    "storm_lons=lons[time_hit]\n",
    "storm_prof_times=prof_times[time_hit]\n",
    "storm_zvals=zvals[time_hit,:]\n",
    "storm_height=radar_height[time_hit,:]\n",
    "storm_date_times=date_times[time_hit]\n",
    "len(date_times)"
   ]
  },
  {
   "cell_type": "markdown",
   "metadata": {},
   "source": [
    "# convert time to distance by using pyproj to get the greatcircle distance between shots"
   ]
  },
  {
   "cell_type": "code",
   "execution_count": null,
   "metadata": {},
   "outputs": [],
   "source": [
    "great_circle=pyproj.Geod(ellps='WGS84')\n",
    "distance=[0]\n",
    "start=(storm_lons[0],storm_lats[0])\n",
    "for index in np.arange(1,len(storm_lons)):\n",
    "    azi12,azi21,step= great_circle.inv(storm_lons[index-1],storm_lats[index-1],\n",
    "                                       storm_lons[index],storm_lats[index])\n",
    "    distance.append(distance[index-1] + step)\n",
    "distance=np.array(distance)/meters2km"
   ]
  },
  {
   "cell_type": "markdown",
   "metadata": {},
   "source": [
    "# Make the plot assuming that height is the same for every shot\n",
    "\n",
    "i.e. assume that height[0,:] = height[1,:] = ...\n",
    "\n",
    "in reality, the bin heights are depend on the details of the radar returns, so\n",
    "we would need to historgram the heights into a uniform set of bins -- ignore that for this qualitative picture"
   ]
  },
  {
   "cell_type": "code",
   "execution_count": null,
   "metadata": {},
   "outputs": [],
   "source": [
    "%matplotlib inline\n",
    "fig,ax=plt.subplots(1,1,figsize=(15,4))\n",
    "\n",
    "from matplotlib import cm\n",
    "from matplotlib.colors import Normalize\n",
    "vmin=-30\n",
    "vmax=20\n",
    "the_norm=Normalize(vmin=vmin,vmax=vmax,clip=False)\n",
    "cmap_ref=cm.plasma\n",
    "cmap_ref.set_over('w')\n",
    "cmap_ref.set_under('b',alpha=0.2)\n",
    "cmap_ref.set_bad('0.75') #75% grey\n",
    "\n",
    "def plot_field(distance,height,field,ax,cmap=None,norm=None):\n",
    "    \"\"\"\n",
    "    given an axis, draw a cloudsat cross section\n",
    "    \"\"\"\n",
    "    if cmap is None:\n",
    "        cmap=cm.inferno\n",
    "    col=ax.pcolormesh(distance,height,field,cmap=cmap,\n",
    "                  norm=the_norm)\n",
    "    ax.figure.colorbar(col,extend='both',ax=ax)\n",
    "    return ax\n",
    "\n",
    "cloud_height_km=radar_height[0,:]/meters2km\n",
    "ax=plot_field(distance,cloud_height_km,storm_zvals.T,ax,cmap=cmap_ref,\n",
    "              norm=the_norm)\n",
    "ax.set(ylim=[0,17],xlim=(0,1200))\n",
    "ax.set(xlabel='distance (km)',ylabel='height (km)',\n",
    "       title='equivalent radar reflectivity in dbZe')\n",
    "fig.savefig('cloudsat.png')    "
   ]
  },
  {
   "cell_type": "markdown",
   "metadata": {},
   "source": [
    "# Now subset the ECMWF data"
   ]
  },
  {
   "cell_type": "code",
   "execution_count": null,
   "metadata": {},
   "outputs": [],
   "source": [
    "bad_temps = (ec_temps == ec_missing)\n",
    "ec_temps[bad_temps]=np.nan\n",
    "ec_temps=np.ma.masked_invalid(ec_temps)\n",
    "ec_temps = ec_temps - 273.15\n",
    "ec_temps=ec_temps[time_hit,:]"
   ]
  },
  {
   "cell_type": "markdown",
   "metadata": {},
   "source": [
    "# Plot the ECMWF temperatures for the segment"
   ]
  },
  {
   "cell_type": "code",
   "execution_count": null,
   "metadata": {},
   "outputs": [],
   "source": [
    "fig, ax =plt.subplots(1,1,figsize=(15,4))\n",
    "vmin=-30\n",
    "vmax=30\n",
    "the_norm=Normalize(vmin=vmin,vmax=vmax,clip=False)\n",
    "cmap_ec= cm.bwr\n",
    "cmap_ec.set_over('w')\n",
    "cmap_ec.set_under('b',alpha=0.2)\n",
    "cmap_ec.set_bad('0.75') #75% grey\n",
    "\n",
    "ec_height_km=ec_height/meters2km\n",
    "ax=plot_field(distance,ec_height_km,ec_temps.T,ax,cmap=cmap_ec,\n",
    "                  norm=the_norm)\n",
    "ax.set(ylim=[0,10],xlim=(0,1200))\n",
    "ax.set(xlabel='distance (km)',ylabel='height (km)',title='ECMWF temps in deg C')\n",
    "fig.savefig('temps.png')"
   ]
  },
  {
   "cell_type": "markdown",
   "metadata": {
    "deletable": false,
    "editable": false,
    "nbgrader": {
     "cell_type": "markdown",
     "checksum": "8f5e3965c50ea6f6d0d243a20ce3d7f7",
     "grade": false,
     "grade_id": "cell-9002c2bd709c0c69",
     "locked": true,
     "schema_version": 2,
     "solution": false
    }
   },
   "source": [
    "# Problem -- your task\n",
    "\n",
    "In the cell below, calculate a vector or list called height_vec that has the same length\n",
    "as your segment (1125 time values in my case).  Each of the values should be the\n",
    "height at which the ECWMF temperatures cross the 0 deg C isotherm. My code does this in\n",
    "two steps:\n",
    "\n",
    "1. use numpy.abs to make every temperature positive\n",
    "2. use numpy.argmin to find the index of the lowest positive temperature, which\n",
    "   should be the index closest to zero\n",
    "3. use that index to look up the height in ec_height_km\n",
    "4. save that height in height_vec"
   ]
  },
  {
   "cell_type": "code",
   "execution_count": null,
   "metadata": {
    "deletable": false,
    "nbgrader": {
     "cell_type": "code",
     "checksum": "8fb60dac71d89c119117f9923acb5d5e",
     "grade": true,
     "grade_id": "cell-5c9e5ba5aef10e7f",
     "locked": false,
     "points": 5,
     "schema_version": 2,
     "solution": true
    }
   },
   "outputs": [],
   "source": [
    "#\n",
    "# Use this cell to calculate height_vec\n",
    "#\n",
    "# YOUR CODE HERE\n",
    "raise NotImplementedError()"
   ]
  },
  {
   "cell_type": "markdown",
   "metadata": {},
   "source": [
    "# Now plot height_vec on top of cloudsat zvals"
   ]
  },
  {
   "cell_type": "code",
   "execution_count": null,
   "metadata": {},
   "outputs": [],
   "source": [
    "fig, (ax1,ax2) =plt.subplots(2,1,figsize=(15,8))\n",
    "ax1=plot_field(distance,cloud_height_km,storm_zvals.T,ax1,cmap_ref)\n",
    "ax2=plot_field(distance,cloud_height_km,storm_zvals.T,ax2,cmap_ref)\n",
    "ax2.plot(distance,height_vec,'ro')\n",
    "#\n",
    "# we can loop over axes to set limits, labels\n",
    "#\n",
    "[ax.set(xlim=(0,1200),ylim=(0,17),xlabel='distance (km)',\n",
    "        ylabel='height (km)') for ax in [ax1,ax2]]\n",
    "fig.savefig('cloudsat_heights.png',dpi=200)"
   ]
  }
 ],
 "metadata": {
  "anaconda-cloud": {},
  "kernelspec": {
   "display_name": "Python 3",
   "language": "python",
   "name": "python3"
  },
  "language_info": {
   "codemirror_mode": {
    "name": "ipython",
    "version": 3
   },
   "file_extension": ".py",
   "mimetype": "text/x-python",
   "name": "python",
   "nbconvert_exporter": "python",
   "pygments_lexer": "ipython3",
   "version": "3.6.6"
  },
  "toc": {
   "base_numbering": 1,
   "nav_menu": {},
   "number_sections": true,
   "sideBar": false,
   "skip_h1_title": false,
   "title_cell": "Table of Contents",
   "title_sidebar": "Contents",
   "toc_cell": true,
   "toc_position": {},
   "toc_section_display": true,
   "toc_window_display": false
  }
 },
 "nbformat": 4,
 "nbformat_minor": 1
}
